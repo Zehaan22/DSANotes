{
 "cells": [
  {
   "cell_type": "markdown",
   "metadata": {},
   "source": [
    "### Proving Invariants \n",
    "\n",
    "**Example 1: *BINARY SEARCH***\n",
    "\n",
    "Prove the invariant that is the fact that any element x will exist in the half that you decide to go to."
   ]
  },
  {
   "cell_type": "markdown",
   "metadata": {},
   "source": [
    "**Example 2:  *Euclid's Division Lemma***\n",
    "\n",
    "We use this algorithm to find the $\\gcd(a,b)$ for two positive integers $a,b$.\n",
    "\n",
    "ALGO:\n",
    "<code>\n",
    "\n",
    "gcd(a,b){\n",
    "\n",
    "    while(b!=0){\n",
    "\n",
    "        t <- b;\n",
    "\n",
    "        b <- a mod b;\n",
    "\n",
    "        a <- t;\n",
    "\n",
    "    }\n",
    "\n",
    "    return (a);\n",
    "    \n",
    "}\n",
    "</code>\n",
    "\n",
    "**Time Complexity:**\n",
    "\n",
    "The time complexity of this algorithm is ~ $O(\\log(n))$\n",
    "\n",
    "*Invariant*\n",
    "\n",
    "$\\gcd(a,b) = \\gcd(b,a|mod(b))$"
   ]
  },
  {
   "cell_type": "markdown",
   "metadata": {},
   "source": [
    "###### Time taken for each step\n",
    "\n",
    "Each step in the algorithm is $O(m)$ where $m$ is the number of digits of interger $a$.\n",
    "\n",
    "**Number of rounds**\n",
    "\n",
    "Every two rounds , $B$ gets halved \n",
    "\n",
    "Hence, there are only $\\log(B)$ rounds"
   ]
  }
 ],
 "metadata": {
  "kernelspec": {
   "display_name": "Python 3",
   "language": "python",
   "name": "python3"
  },
  "language_info": {
   "name": "python",
   "version": "3.10.11"
  }
 },
 "nbformat": 4,
 "nbformat_minor": 2
}
