{
 "cells": [
  {
   "cell_type": "markdown",
   "metadata": {},
   "source": [
    "### Algorithm Design (Greedy Problems)\n",
    "\n",
    "##### Problem - 1 **MAX-sum subarray**\n",
    "\n",
    "Write a program to that takes an input $A$ an array of N integers and outputs a sub-array with max sum.\n",
    "\n",
    "Function Signature:\n",
    "\n",
    "<code>vector maxSubSum(vector A)</code>\n",
    "\n",
    "*Ideas:*\n",
    "1. <code>Max-Sum-Brute(A)</code> : For i,j = 0,1,...,n-1; Caculate the sum of $A[i:j]$; Track the max-sum\n",
    "\n",
    "    What is the time complexity here?\n",
    "    \n",
    "    It'd be sum over i,j of (j-i+1) which is O($n^3$)\n",
    "\n",
    "2. <code>Linear-Sum-Brute</code> : Reducing the number of indices from 2 to 1 instead of (i,j) --> (j)\n",
    "\n",
    "    To understand this let's introduce a few definitions : \n",
    "\n",
    "    $S[j]$ := sum of the max-sum subarray ending at j;\n",
    "\n",
    "    Eg: Implemented below\n",
    "    "
   ]
  },
  {
   "cell_type": "code",
   "execution_count": 5,
   "metadata": {},
   "outputs": [
    {
     "name": "stdout",
     "output_type": "stream",
     "text": [
      "[3]\n",
      "[3, -2]\n",
      "[3, -2, 3]\n",
      "[3, -2, 3, 11]\n",
      "[3, -2, 3, 11, 13]\n",
      "[3, -2, 3, 11, 13, 9]\n",
      "13\n"
     ]
    }
   ],
   "source": [
    "# For the linear time methods consider the following array:\n",
    "\n",
    "A = [3,-5,3,8,2,-4]\n",
    "S = [A[0]]\n",
    "\n",
    "for i in range(1,len(A)):\n",
    "    print(S)\n",
    "    # The Idea here is we evolve S[j] as following\n",
    "    S.append(max(S[i-1] + A[i], A[i]))\n",
    "    \n",
    "print(S)\n",
    "    \n",
    "print(max(S))\n",
    "    "
   ]
  },
  {
   "cell_type": "markdown",
   "metadata": {},
   "source": [
    "*Analysis:* \n",
    "- $O(n)$:\n",
    "    The fact that the algorithm is $O(n)$ is clear\n",
    "- Key point to analyse is the fact that each j appears in S atleast once."
   ]
  },
  {
   "cell_type": "markdown",
   "metadata": {},
   "source": [
    "*Question:*\n",
    "Can we compute $S[j]$ in time $O(1)$ \n",
    "\n",
    "*Analysis:*\n",
    "- If $B := A[i,..,j]$ is the max of $S[j]$, then one of two things is true:\n",
    "    Note: $B' := A[i,...,j-1]$\n",
    "    * B = $B' U A[j]$\n",
    "    * B = $A[j]$\n",
    "\n",
    "    And the latter is only done is $S[j-1]$ is negative.\n",
    "\n",
    "- Updated Lemma:\n",
    "\n",
    "    if ($S[j-1] > 0$) => $S[j] = S[j-1] + A[j]$\n",
    "    \n",
    "    else => $S[j] = A[j]$"
   ]
  },
  {
   "cell_type": "code",
   "execution_count": 6,
   "metadata": {},
   "outputs": [
    {
     "name": "stdout",
     "output_type": "stream",
     "text": [
      "[3]\n",
      "0 0\n",
      "[3, -2]\n",
      "0 1\n",
      "[3, -2, 3]\n",
      "2 2\n",
      "[3, -2, 3, 11]\n",
      "2 3\n",
      "[3, -2, 3, 11, 13]\n",
      "2 4\n",
      "[3, -2, 3, 11, 13, 9]\n",
      "13\n",
      "2 5\n"
     ]
    }
   ],
   "source": [
    "# If we want to keep a track of the indices\n",
    "\n",
    "\n",
    "# For the linear time methods consider the following array:\n",
    "\n",
    "A = [3,-5,3,8,2,-4]\n",
    "S = [A[0]]\n",
    "start = 0\n",
    "end = 0\n",
    "\n",
    "for i in range(1,len(A)):\n",
    "    print(S)\n",
    "    print(start,end)\n",
    "    # The Idea here is we evolve S[j] as following\n",
    "    if S[i-1] > 0:\n",
    "        end += 1\n",
    "        S.append((S[i-1] + A[i]))\n",
    "    else:\n",
    "        start = i\n",
    "        end = i\n",
    "        S.append((A[i]))\n",
    "    \n",
    "print(S)\n",
    "    \n",
    "print(max(S))\n",
    "print(start,end)"
   ]
  }
 ],
 "metadata": {
  "kernelspec": {
   "display_name": "Python 3",
   "language": "python",
   "name": "python3"
  },
  "language_info": {
   "codemirror_mode": {
    "name": "ipython",
    "version": 3
   },
   "file_extension": ".py",
   "mimetype": "text/x-python",
   "name": "python",
   "nbconvert_exporter": "python",
   "pygments_lexer": "ipython3",
   "version": "3.10.11"
  }
 },
 "nbformat": 4,
 "nbformat_minor": 2
}
