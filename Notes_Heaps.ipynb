{
 "cells": [
  {
   "cell_type": "markdown",
   "metadata": {},
   "source": [
    "# Heaps\n",
    "\n",
    "A Heap H is a tree data structure with the property that :<br>\n",
    "(val at a node v) < (val of each v's children)\n",
    "\n",
    "QueryOps :\n",
    "- min(H) = smallest key in H = root (always)\n",
    "\n",
    "UpdateOps :\n",
    "- createHeap(H) // returns a <code>nullptr</code>\n",
    "- extractmin(H) // get the min value and delete the min node i.e, root\n",
    "- decreaseKey(p,$\\Delta$,H) : // change p -> p-$\\Delta$ \n",
    "- merge(H1, H2) : // merge the two heaps and return one heap"
   ]
  },
  {
   "cell_type": "markdown",
   "metadata": {},
   "source": [
    "## Binary Heap\n",
    "\n",
    "The tree will be \"Close\" to a complete binary tree; and it'd be stored in an array!"
   ]
  }
 ],
 "metadata": {
  "kernelspec": {
   "display_name": "Python 3",
   "language": "python",
   "name": "python3"
  },
  "language_info": {
   "name": "python",
   "version": "3.10.11"
  }
 },
 "nbformat": 4,
 "nbformat_minor": 2
}
