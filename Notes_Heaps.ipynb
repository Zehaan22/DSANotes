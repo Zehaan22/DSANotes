{
 "cells": [
  {
   "cell_type": "markdown",
   "metadata": {},
   "source": [
    "# Heaps\n",
    "\n",
    "A Heap H is a tree data structure with the property that :<br>\n",
    "(val at a node v) < (val of each v's children)\n",
    "\n",
    "QueryOps :\n",
    "- min(H) = smallest key in H = root (always)\n",
    "\n",
    "UpdateOps :\n",
    "- createHeap(H) // returns a <code>nullptr</code>\n",
    "- extractmin(H) // get the min value and delete the min node i.e, root\n",
    "- decreaseKey(p,$\\Delta$,H) : // change p -> p-$\\Delta$ \n",
    "- merge(H1, H2) : // merge the two heaps and return one heap"
   ]
  },
  {
   "cell_type": "markdown",
   "metadata": {},
   "source": [
    "## Binary Heap\n",
    "\n",
    "The tree will be \"Close\" to a complete binary tree; and it'd be stored in an array!<br>\n",
    "Defnition of a complete binary tree:<br>\n",
    "A complete-binary tree of level $l$ has :\n",
    "- Max nodes till level $l-1$\n",
    "- $l-th$ level is filled from the left.\n",
    "\n",
    "Clearly, Array can have a 1-1 relationship with a complete binary tree. We've the follwoing properties:\n",
    "- Leftmost node at level $l$ has the label = $2^l - 1$\n",
    "- k-th node from the left at level is : $2^l + k - 2$ // call this node $v$ and its index $j$\n",
    "- Left(v) = $2^{l+1} + 2k - 3 = 2j + 1$\n",
    "- Right(v) = $2^{l+1} + 2k - 2 = 2j + 2$\n",
    "- parent(v) = $\\lfloor\\frac{(j-1)}{2} \\rfloor$\n",
    "\n",
    "\n",
    "With this understanding we can look at a few queries that we want to be able to do with the heap:\n",
    "- <code>min(H)</code>: = H[0]\n",
    "- <code>extractMin(H)</code>: // complicated cause we want to remove the the first index of the heap:<br>\n",
    "<font style = \"color : skyblue\">\n",
    "**Algorithm:**<br>\n",
    "Swap H[0] with H[n-1] and delete the last element;<br>\n",
    "Swap H[0] with the min child and repeat this till the leaf node.<br>\n",
    "The time taken for this is going to be O(h) = O($\\log(n)$)</font>\n",
    "\n",
    "- <code>insert(x,H)</code> : // Problem here is to find the appropriate location and inserting stuff there:<br>\n",
    "<font style = \"color : skyblue\">\n",
    "**Algorithm:**<br>\n",
    "Add the element at the end of the array, size is now n+1<br>\n",
    "Keep swapping the value with the value of the parent if parent value is larger<br>\n",
    "The time taken for this is going to be O(h) = O($\\log(n)$)</font>\n",
    "\n",
    "- <code>decreaseKey(p,del,H)</code> : // Reduce the value of p by del in H:<br>\n",
    "<font style = \"color : skyblue\">\n",
    "**Algorithm:**<br>\n",
    "Change the value of p<br>\n",
    "Keep swapping the value with the value of the parent if parent value is larger<br>\n",
    "The time taken for this is going to be O(h) = O($\\log(n)$)</font>"
   ]
  }
 ],
 "metadata": {
  "kernelspec": {
   "display_name": "Python 3",
   "language": "python",
   "name": "python3"
  },
  "language_info": {
   "name": "python",
   "version": "3.10.11"
  }
 },
 "nbformat": 4,
 "nbformat_minor": 2
}
