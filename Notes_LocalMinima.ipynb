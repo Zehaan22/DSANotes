{
 "cells": [
  {
   "cell_type": "markdown",
   "metadata": {},
   "source": [
    "### Problem of Local Minima in a Grid\n",
    "\n",
    "*Problem Statement*\n",
    "\n",
    "Write a program that takes $G[n][n]$ as input storing $n*n$ distinct integers. Output the local minima in some given range i.e\n",
    "$$G[i][j] | G[i][j] < G[i+1][j],G[i][j+1],G[i-1][j],G[i][j-1]$$\n",
    "\n",
    "##### Ideas:\n",
    "\n",
    "1. <code>Single-scan-G</code>: \n",
    "\n",
    "    Single scan of G yield the local minima ~ $O(n^2)$\n",
    "\n",
    "2. <code>Local-exploration</code>: \n",
    "\n",
    "    For any grid element $G[i][j]$, look for a smaller nieghbour, repeat!</br>\n",
    "    If no smaller neighbour, return $G[i][j]$;</br>\n",
    "    No cell is visited twice ~ $O(n^2)$\n",
    "\n",
    "3. <code>Binary-Search_on1DArray</code>\n",
    "\n",
    "    * If $A[mid]$ is not local minima in $A[L,...,R]$, then move to a neighbouring smallest element; namely mid-1 or mid+1\n",
    "    * Move to the new half and do the search there\n",
    "    * Reason why it works:\n",
    "        - For any array $[a,b,c,d,e,f,g,h,i,j,...]$\n",
    "        - If we consider the mid element say $[...,b,a,c,...]$\n",
    "        - WLOG consider $b < a$\n",
    "        - It suffices to prove that there exists a local minima in $[...,b] $\n",
    "        - That is clear as $b < a$\n",
    "        - If in $[...,d,b]$ $d<b$ then we can proceed recusively till the first element of the array\n",
    "        - If $d>b$ then we are done\n",
    "    * The time complexity on this is clear ~ $O(\\log(n))$\n",
    "        \n",
    "\n",
    "\n"
   ]
  },
  {
   "cell_type": "code",
   "execution_count": 8,
   "metadata": {},
   "outputs": [
    {
     "name": "stdout",
     "output_type": "stream",
     "text": [
      "1\n"
     ]
    }
   ],
   "source": [
    "# Implementing the algo\n",
    "arr = [2,90,2,1,45,89,32,7,5,9]\n",
    "start = 0\n",
    "end = len(arr)-1\n",
    "\n",
    "mid = start + (end-start)//2\n",
    "\n",
    "while(not(arr[max(0,mid-1)] > arr[mid] < arr[min(len(arr)-1, mid +1)])):\n",
    "    mid = start + (end-start)//2\n",
    "    \n",
    "    if(arr[max(0,mid-1)] < arr[min(len(arr)-1, mid +1)]):\n",
    "        end = mid-1\n",
    "    else:\n",
    "        start = mid+1\n",
    "        \n",
    "print(arr[mid])"
   ]
  },
  {
   "cell_type": "markdown",
   "metadata": {},
   "source": [
    "##### Extending the idea to 2-D arrays\n",
    "\n",
    "**Idea:**\n",
    "\n",
    "Instead of a cell we can think of a column in a grid.\n",
    "\n",
    "**Algorithm**\n",
    "\n",
    "- Consider $G[*][L,...,R]$; \n",
    "\n",
    "- <code>mid = L + (R-L)/2;</code>\n",
    "\n",
    "- Find the min of $G[*][mid]$ ~ $O(n)$\n",
    "\n",
    "- Say that this value is $G[r][mid]$\n",
    "\n",
    "- Now we want to compare this with $G[r][mid-1]$ and $G[r][mid+1]$ and move to the min value.\n",
    "    * If mid is the min value then return mid.\n",
    "    * Say, the minnimum value is in $[mid-1]$, then clearly you want to search in the left half.\n",
    "    * Else, search in the right half.\n",
    "\n",
    "**Proof of correctness**\n",
    "\n",
    "*lemma :* \n",
    "$$G[*][L-1] > G[min_L][L];$$ \n",
    "and, similarly \n",
    "$$G[*][R+1] > G[min_R][R];$$\n",
    "\n",
    "*Proof :*\n",
    "- We realsise that in every step that we update R or L, the $min_old$ of that new column is less than the $min_old$ of the old middle column.\n",
    "- $$ G[min_R][R] < G[r][R]< G[r][R+1]< G[*][R]$$\n",
    "- Having discussed the inductive case, the base case is when $G[min_R][R]<G[min_R][R+1] , G[min_R][R-1]$\n",
    "- Together they solve the problem.\n",
    "\n",
    "**Time Complexity**\n",
    "\n",
    "Searching through a column (an $O(n)$ step) is done $\\log(n)$ amount of times;\n",
    "\n",
    "Hence, the final time complexity is $O(n\\log(n))$"
   ]
  },
  {
   "cell_type": "markdown",
   "metadata": {},
   "source": [
    "##### Final Improvement on the $O(n)$\n",
    "\n",
    "**Idea**\n",
    "\n",
    "Once you are in a particular column, you can perform the similar binary search as we do in columns.\n",
    "\n",
    "Essentially we want to reduce:\n",
    "$$\\Sigma(n) \\le O(n\\log(n))$$\n",
    "to\n",
    "$$\n",
    "\\Sigma(n/2^i) \\le O(n)\n",
    "$$\n",
    "\n",
    "**Proof of correctness**\n",
    "\n",
    "Up for question ...\n",
    "\n",
    "Because the previous case relies on $G[mid_R][R]$ being the absolute minima for that column."
   ]
  }
 ],
 "metadata": {
  "kernelspec": {
   "display_name": "Python 3",
   "language": "python",
   "name": "python3"
  },
  "language_info": {
   "codemirror_mode": {
    "name": "ipython",
    "version": 3
   },
   "file_extension": ".py",
   "mimetype": "text/x-python",
   "name": "python",
   "nbconvert_exporter": "python",
   "pygments_lexer": "ipython3",
   "version": "3.10.11"
  }
 },
 "nbformat": 4,
 "nbformat_minor": 2
}
