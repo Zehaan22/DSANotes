{
 "cells": [
  {
   "cell_type": "markdown",
   "metadata": {},
   "source": [
    "# Integer Multiplication in the Binary form\n",
    "\n",
    "Input:  <code>X : [1,0,0,0,1,1,0,1] and Y = [1,0,1,1,1,1,0,1]</code>\n",
    "Output: <code>XY : [...]</code>\n",
    "\n",
    "Idea 0: High School arithmetic <br>\n",
    "$\\Rightarrow time \\ge n^2$\n",
    "\n",
    "Idea 1: Divide and Conquer\n",
    "\n",
    "Divide the arrays : [Reuse $X^*$, $Y^*$ as the corresponding integer values]\n",
    "<br>\n",
    "$X =: A.2^{n/2} + B$ <br>\n",
    "$Y =: C.2^{n/2} + D$ <br>\n",
    "$\\Rightarrow X.Y = (AC)2^n + (AD + BC)2^{n/2} + BD$\n",
    "\n",
    "Here, the reccurence is $T(n) = 4.T(n/2) + O(n)$<br>\n",
    "$T(n) = O(4^{\\log(n)}) = O(n^2)$\n",
    "\n",
    "Idea 1.5: (A+B)(C+D) = (AC) + (BD) + (BC + AD)\n",
    "\n",
    "So we only calculate the first 3 and skip (BC + AD)\n",
    "\n",
    "now the reccurence is $T(n) = 3.T(n/2) + O(n)$<br>\n",
    "$\\Rightarrow T(n) = O(3^{\\log(n)}) = O(n^{\\log(3)})$\n",
    "\n",
    "Theorem: [Kratsuba'60]: n-bit integer multiplication takes $O(n^{1.585})$ time.\n",
    "\n",
    "*Remark:* [Harvey & Van Der Haoeven 2019] showed that this can be done in $O(n\\log(n))$"
   ]
  },
  {
   "cell_type": "markdown",
   "metadata": {},
   "source": [
    "# Inversions \n",
    "\n",
    "Input: <code>A[0,1,...,n-1] of integers, (unsorted)</code><br>\n",
    "Output: <code>Count of inversions := #{(i,j) | i<j & A[i] > A[j]}</code>\n",
    "\n",
    "Clearly : $D\\in [0 , {n\\choose2}] $\n",
    "\n",
    "IDEA 0: $O(n^2)$ idea, check the double loop.\n",
    "\n",
    "Idea 1: Another Adaptation of the Merge Sort Algorithm\n",
    "We keep dividing the arrays in halves, and at a particular point in recursion:<br>\n",
    "$A: [p,\\dots,mid,\\dots,q]$ <br>\n",
    "$count_1$ = Inversions in the p to mid part<br>\n",
    "$count_2$ = Inversions in the mid to q part<br>\n",
    "$count_3$ = Cross-Inversions in the two parts<br>\n",
    "\n",
    "Observations:\n",
    "- Even if we sort the two halves, $count_3$ is preserved.\n",
    "\n",
    "Hence,<br>\n",
    "* We find $count_1$ and $count_2$ on the original order  \n",
    "* Sort the two halves separately\n",
    "* In the merge algorithm - \"Array 2 before Array 1\" incident contributes mid-p+1 to $count_3$.\n"
   ]
  }
 ],
 "metadata": {
  "kernelspec": {
   "display_name": "Python 3",
   "language": "python",
   "name": "python3"
  },
  "language_info": {
   "name": "python",
   "version": "3.10.11"
  }
 },
 "nbformat": 4,
 "nbformat_minor": 2
}
