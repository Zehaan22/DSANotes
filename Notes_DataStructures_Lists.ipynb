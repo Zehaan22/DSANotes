{
 "cells": [
  {
   "cell_type": "markdown",
   "metadata": {},
   "source": [
    "# Data Structures\n"
   ]
  },
  {
   "cell_type": "markdown",
   "metadata": {},
   "source": [
    "##### Two main steps of DS designs\n",
    "\n",
    "1. Mathematical Modeling: List of operations that the DS can support\n",
    "    - Description of data format\n",
    "    - Description of the list of operations (quesry + update)\n",
    "    - The out-put is called ADT = (Abstract Data Type)\n",
    "</br>\n",
    "</br>\n",
    "\n",
    "2. Implementation of the model: \n",
    "    - Implementing the ADT in a computer program\n",
    "    - The out-put of this step is the C-Program for pre-processing and Query/Update operations.\n"
   ]
  },
  {
   "cell_type": "markdown",
   "metadata": {},
   "source": [
    "## List"
   ]
  },
  {
   "cell_type": "markdown",
   "metadata": {},
   "source": [
    "Eg. \n",
    "* Roll-no. of students\n",
    "* Rooms reserved in a hotel\n",
    "* Awards\n",
    "\n",
    "*What's Common?*\n",
    "\n",
    "The general stucture of a list looks like $L = [a_1, a_2, a_3, \\dots]$\n",
    "\n",
    "***What are the Qury operations on the list?***\n",
    "\n",
    "* <code>isEmpty(L)</code>: To check whether it's empty\n",
    "* <code>search(x,L)</code>: Searching for an element; also gives the answer to $x \\in L$ $ \\forall x$\n",
    "* <code>Successor(p,l)</code>: Returns the element after the location $p$.\n",
    "* <code>Predecessor(p,l)</code>: Returns the element before the location $p$.\n",
    "* <code>Enumerate(L)</code>: Print all the elements in the list.\n",
    "\n",
    "*Update Operations:*\n",
    "\n",
    "* <code>createEmpty(L)</code>: Create space and a pointer to $L \\implies \\phi$.\n",
    "* <code>Insert(x,p,L)</code>: Insert $x$ at the location $p$ in $L$.\n",
    "* <code>delete(p,L)</code>: Delete Location $p$ in the list $L$.\n",
    "* <code>makeEmpty(L)</code>: Force $L \\implies \\phi$."
   ]
  },
  {
   "cell_type": "markdown",
   "metadata": {},
   "source": [
    "##### Ideas\n",
    "\n",
    "1. **Array-Based-Implenetation:**\n",
    "    - Put $L$ in a array $A[]$; \n",
    "    - Store $a_i$ in $A[i-1]$ for all $i = 0,1,2,\\dots,n$\n",
    "    \n",
    "Problems/Advantages with the approach:\n",
    "* Finding the element in the list takes $O(1)$ time.\n",
    "\n",
    "    *Proof:* \n",
    "    - Arrays have random access.\n",
    "    - If $A$ is a pointer to $A[0]$ and $A+i$ is a pointer to the element at $A[i]$.\n",
    "    - Array locations are $A, A+1, A+2, \\dots$\n",
    "    \n",
    "* The Time complexity of all operations is:\n",
    "    - <code>isEmpty(x)</code> ~ $O(1)$\n",
    "    - <code>search(x,L)</code> ~ $O(n)$\n",
    "    - <code>successor(i,L)</code> ~ $O(1)$\n",
    "    - <code>createempty(L)</code> ~ $O(1)$\n",
    "    - <code>insert(x,i,L)</code> ~ $O(n)$\n",
    "    - <code>insert(x,i,L)</code> ~ $O(n)$ //shifting the elements takes time.\n",
    "    - <code>delete(i,L)</code> ~ $O(n)$\n",
    "\n",
    "**REMARK**\n",
    "\n",
    "Insert and Delete are very important elements that we wish to make faster.\n",
    "    \n"
   ]
  },
  {
   "cell_type": "markdown",
   "metadata": {},
   "source": [
    "## Linked Lists\n",
    "\n",
    "The implementation of a list based on *\"links\"* between nodes.\n",
    "\n",
    "Eg. {3,9,1}\n",
    "This would look something like \n",
    "\n",
    "$3 \\rightarrow 9 \\rightarrow 1$ - Singly Linked list\n",
    "\n",
    "$3 \\leftrightarrow 9 \\leftrightarrow 1$ - Doubly Linked list\n",
    "\n",
    "Essentially each <code>Node</code> element would look something like:\n",
    "\n",
    "<code>\n",
    "Node{</br></br>\n",
    "    int value; </br></br>\n",
    "    Node* next; </br></br>\n",
    "    Node* prev; </br></br>\n",
    "}\n",
    "</code>\n",
    "\n",
    "And, the List as a whole can be accessed by a <code>head</code> pointer to the first node of the list.\n",
    "\n",
    "#### Sample implementation of Insert\n",
    "\n",
    "<code>\n",
    "insert(x,p,l){\n",
    "</br>\n",
    "\n",
    "    temp = p->next;\n",
    "\n",
    "    p->next = new Node(x);\n",
    "\n",
    "    p->next->next = temp;\n",
    "\n",
    "    // Similarly change the prev parts for a doubly linked list.\n",
    "\n",
    "    // The new size of the list is n+1.\n",
    "\n",
    "}\n",
    "</code>\n",
    "\n",
    "Time Complexity for this code is ~ $O(1)$\n",
    "\n",
    "Same holds good for the deletion of an element in the list.\n",
    "\n",
    "***Other Time Complexities:***\n",
    "\n",
    "- <code>isEmpty</code> ~ $O(1)$\n",
    "- <code>search</code> ~ $O(n)$\n",
    "- <code>successor</code> ~ $O(1)$\n",
    "- <code>predecessor</code> ~ $O(1)$\n",
    "- <code>createEmpty</code> ~ $O(1)$\n",
    "- <code>insert</code> ~ $O(1)$\n",
    "- <code>delete</code> ~ $O(1)$\n",
    "- <code>makeEmpty</code> ~ $O(1)$ // Space will be resued by the OS"
   ]
  }
 ],
 "metadata": {
  "kernelspec": {
   "display_name": "Python 3",
   "language": "python",
   "name": "python3"
  },
  "language_info": {
   "name": "python",
   "version": "3.10.11"
  }
 },
 "nbformat": 4,
 "nbformat_minor": 2
}
