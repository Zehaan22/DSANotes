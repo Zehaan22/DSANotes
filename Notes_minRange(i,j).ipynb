{
 "cells": [
  {
   "cell_type": "markdown",
   "metadata": {},
   "source": [
    "### Problem : Range-Min\n",
    "\n",
    "Find the minimum number in a range for a 1-D array for multiple queries.\n",
    "\n",
    "The array is a constant list of n numbers from which each query demands the min in the range(i,j).\n",
    "\n",
    "We ideally want to define a data structure that does not take:\n",
    "\n",
    "1. Too long to construct.\n",
    "\n",
    "2. Too much space to store.\n",
    "\n",
    "\n",
    "##### Auxiliary Functions\n",
    "\n",
    "1. <code>maxPower2(L)</code>:\n",
    "\n",
    "    Returns the maximum power of 2 just samller than $l$.\n",
    "\n",
    "    *Observe:*\n",
    "\n",
    "    $l/2 \\lt maxPower2(L)\\lt l$\n",
    "\n",
    "    This returns a value that we would define as $K$ for the rest of the algo."
   ]
  },
  {
   "cell_type": "markdown",
   "metadata": {},
   "source": [
    "##### MAIN ALGORITHM\n",
    "\n",
    "**CORE IDEA**\n",
    "\n",
    "Intervals that start with $i$ i.e $[i,i+2^K]$ and $[j-2^K,j]$ will collaborate to give the minima.\n",
    "\n",
    "**PSUEDO-CODE**\n",
    "1. Build the matrix $B[n][\\log(n)]$;\n",
    "\n",
    "    - This matrix has the porperty that $B[i][j]$ is the min value in $A[i,i+2^j]$\n",
    "\n",
    "2. <code>rangeMin(A,i,j){\n",
    "\n",
    "    L <- j-i;\n",
    "\n",
    "    t <- maxPower2(L);\n",
    "\n",
    "    k <- $\\log(L)$\n",
    "\n",
    "    if(t==k) return B[i][k];\n",
    "\n",
    "    else{\n",
    "\n",
    "        return min(B[i,k],B[j-t][k])\n",
    "    }\n",
    "}\n",
    "</code>\n",
    "\n",
    "**Time Complexity:**\n",
    "\n",
    "1. As we can observe the query is ~ $O(1)$ time.\n",
    "\n",
    "2. The time taken to construct the $B$ matrix is ~ $O(n) * n\\log(n)$ steps\n",
    "\n",
    "    That is ~ $O(n^2\\log(n))$"
   ]
  },
  {
   "cell_type": "markdown",
   "metadata": {},
   "source": [
    "\n",
    "##### Upgrade in the time complexity\n",
    "\n",
    "**Building the B matrix Faster:**\n",
    "\n",
    "Idea #1: The Psuedo Code only uses $B$ upto the $(k-1)^{th}$ column.\n",
    "\n",
    "Hence,to calculate the nest index in the B matrix you can use the previous column's value.\n",
    "\n",
    "Essentially apply the <code>rangeMin(i,k)</code> idea. \n",
    "\n",
    "- The step needs time ~ $O(1)$\n",
    "- The time you need to compute this minMatrix is ~ $O(n\\log(n))$ \n",
    "- The space requirement is also clearly ~ $O(n\\log(n))$\n"
   ]
  }
 ],
 "metadata": {
  "kernelspec": {
   "display_name": "Python 3",
   "language": "python",
   "name": "python3"
  },
  "language_info": {
   "name": "python",
   "version": "3.10.11"
  }
 },
 "nbformat": 4,
 "nbformat_minor": 2
}
