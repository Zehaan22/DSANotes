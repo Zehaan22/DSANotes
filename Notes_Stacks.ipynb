{
 "cells": [
  {
   "cell_type": "markdown",
   "metadata": {},
   "source": [
    "# Stacks\n",
    "\n",
    "A data-structure that looks like an array but only the <code>TOP</code> element is visible.\n",
    "\n",
    "*Eg Prob:*\n",
    "\n",
    "<b>Expression evaluations:</b> Evaluate a complex arithmetic formula like 3+4*(8+9).\n",
    "\n",
    "Write a Program for which:\n",
    "\n",
    "Input : Artihmetic expression, e.g. 3+4*(8+9)\n",
    "\n",
    "Output: Value\n",
    "\n",
    "An $O(n)$ algorithm inspires a stack.\n",
    "\n",
    "**Operations that we'd care about:**\n",
    "1. <code>isEmpty(s)</code>\n",
    "2. <code>top(s)</code>\n",
    "\n",
    "3. <code>createEmptyStack(s)</code>\n",
    "4. <code>push(x,s)</code> // new element to the top\n",
    "\n",
    "5. <code>pop(s)</code> // delete and output the top \n",
    "\n",
    "\n",
    "##### Analysing the example of expression evaluation\n",
    "\n",
    "According to the famous BODMAS rule, the precedence of operators looks like (^) > (/) > (*) > (+) = (-).\n",
    "\n",
    "If we look at just one pass of the stack, we observe that:\n",
    "- 8 + 3 * | 5 ^ 2 | - 9\n",
    "- pop out | 5 ^ 2 | and push in | 25 |\n",
    "\n",
    "The next passes would look like:\n",
    "- 8 + | 3 * 25 | - 9\n",
    "- | 8 + 75 - 9 |\n",
    "- | 74 |\n",
    "\n",
    "The *INVARIANT* in this case is the fact that we do not change the value of the expression when we pop and push parts of the expression.\n",
    "\n",
    "There is only one answer possible and the idea of the proof is to use the unambiguity of the answer to justify the psuedo-code.\n",
    "\n",
    "**Remark:**\n",
    "\n",
    "A cleaner psuedo-code can be established with two stacks, one that stores the operands and the other that stores the operators.\n",
    "\n",
    "N-Stack: __________ O-Stack:\n",
    "\n",
    "        1   \n",
    "\n",
    "        2               -\n",
    "\n",
    "        3               ^\n",
    "\n",
    "        4               +\n",
    "        \n",
    "        5               *"
   ]
  },
  {
   "cell_type": "markdown",
   "metadata": {},
   "source": [
    "**Observation:**\n",
    "\n",
    "- Stacks are great tools for reversing anything.\n",
    "- Stacks are also awesome for recursive programming."
   ]
  }
 ],
 "metadata": {
  "kernelspec": {
   "display_name": "Python 3",
   "language": "python",
   "name": "python3"
  },
  "language_info": {
   "name": "python",
   "version": "3.10.11"
  }
 },
 "nbformat": 4,
 "nbformat_minor": 2
}
