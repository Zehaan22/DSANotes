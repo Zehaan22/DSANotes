{
 "cells": [
  {
   "cell_type": "markdown",
   "metadata": {},
   "source": [
    "# Stacks\n",
    "\n",
    "A data-structure that looks like an array but only the <code>TOP</code> element is visible.\n",
    "\n",
    "*Eg Prob:*\n",
    "\n",
    "<b>Expression evaluations:</b> Evaluate a complex arithmetic formula like 3+4*(8+9).\n",
    "\n",
    "Write a Program for which:\n",
    "\n",
    "Input : Artihmetic expression, e.g. 3+4*(8+9)\n",
    "\n",
    "Output: Value\n",
    "\n",
    "An $O(n)$ algorithm inspires a stack.\n",
    "\n",
    "**Operations that we'd care about:**\n",
    "1. <code>isEmpty(s)</code>\n",
    "2. <code>top(s)</code>\n",
    "\n",
    "3. <code>createEmptyStack(s)</code>\n",
    "4. <code>push(x,s)</code> // new element to the top\n",
    "\n",
    "5. <code>pop(s)</code> // delete and output the top \n",
    "\n",
    "\n",
    "##### Analysing the example of expression evaluation\n",
    "\n",
    "According to the famous BODMAS rule, the precedence of operators looks like ^ > / > * > + = -.\n"
   ]
  }
 ],
 "metadata": {
  "kernelspec": {
   "display_name": "Python 3",
   "language": "python",
   "name": "python3"
  },
  "language_info": {
   "name": "python",
   "version": "3.10.11"
  }
 },
 "nbformat": 4,
 "nbformat_minor": 2
}
