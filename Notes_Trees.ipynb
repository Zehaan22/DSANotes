{
 "cells": [
  {
   "cell_type": "markdown",
   "metadata": {},
   "source": [
    "## TREES\n",
    "\n",
    "To do fast lookup in the list what we need is the pointer to the mid and the list to be sorted.\n",
    "\n",
    "We will now work with the structures of a tree.\n",
    "\n",
    "That would look something like :\n",
    "\n",
    "                        4\n",
    "                    /       \\\n",
    "                    2       6\n",
    "                  /   \\   /   \\\n",
    "                 1     3 5     8\n",
    "\n",
    "Looks like an inverted real tree.\n",
    "\n",
    "Here the starting element (here, 4) is called the <code>root</code> of the tree.\n",
    "\n",
    "The bottom nodes of the tree are called <code>leaves</code> and they have no children nodes.  \n",
    "\n",
    "Also, the structure of a node in this tree would look like:\n",
    "\n",
    "<code>\n",
    "Node {\n",
    "  </br></br>\n",
    "  int val;\n",
    "\n",
    "  Node* left;\n",
    "\n",
    "  Node* right;\n",
    "  \n",
    "\n",
    "}\n",
    "</code>\n",
    "\n",
    "<a href = \"https://www.geeksforgeeks.org/introduction-to-binary-tree-data-structure-and-algorithm-tutorials/\">Binary Tree in CPP</a>\n",
    "\n",
    "\n",
    "For any node:\n",
    "\n",
    "- The number of incoming edges : 1 (for internal nodes) , 0 (root)\n",
    "- The number of outgoing edges : 0(for leaves) , 1 or 2 (for other internal nodes)"
   ]
  },
  {
   "cell_type": "markdown",
   "metadata": {},
   "source": [
    "#### Terminologies for Psuedo-Codes that we shall use\n",
    "\n",
    "- Parent    : The node from which an edge starts.\n",
    "- Child     : The node to which an edge is directed.\n",
    "- Height    : No. of layers in a tree. (Equivalently) The distance from the root to the farthest leaf.\n",
    "- Depth     : Distance of a node from the root.\n",
    "- Sub-tree  : A part of the tree that fit the definition. (Trees are recursive data structures)\n",
    "\n",
    "**Some important Properties:**\n",
    "\n",
    "- height(node) +  depth(node) $\\le$ height(Tree)\n",
    "- height(subtree(v)) $=$ height(v)\n",
    "\n",
    "*Remark:* An array can also be thought of as a 1-D tree. The height of this \"tree\" is $n-1$.\n",
    "\n",
    "However, we call such a data-structure a <u>skew</u> binary tree. This is too high and too thin.\n",
    "\n",
    "*Defination:* A <u>Balanced Binary Tree</u> has every node $v$ such that the \n",
    "\n",
    "|height of the left child of $v$| - |height of the right child of $v$| $\\le$ 1"
   ]
  }
 ],
 "metadata": {
  "language_info": {
   "name": "python"
  }
 },
 "nbformat": 4,
 "nbformat_minor": 2
}
