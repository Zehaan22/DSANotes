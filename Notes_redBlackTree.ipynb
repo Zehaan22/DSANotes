{
 "cells": [
  {
   "cell_type": "markdown",
   "metadata": {},
   "source": [
    "# Red Black Tree\n",
    "\n",
    "1. Each node is red or black\n",
    "2. Each leaf is black\n",
    "3. Each red Node has only black children\n",
    "4. Number of black nodes on each path from the root to the leaves is the same\n",
    "\n",
    "    This is called the <code>black height</code>\n",
    "\n",
    "\n",
    "Eg.\n",
    "\n",
    "<img src = \"/Users/zehaannaik/DSACodePractice/Course Notes/DSANotes/Red-black_tree_example_with_NIL.svg.png\">"
   ]
  },
  {
   "cell_type": "markdown",
   "metadata": {},
   "source": [
    "**Lemmma 1:** Any RB Tree has height $\\le$ $O(\\log(|T|))$\n",
    "\n",
    "**Observation:** Any RB Tree has height/2 $\\le$ Black-Height $\\le$ height.\n",
    "\n",
    "*Why:* Two reds cannot apprear succesively in a path\n",
    "\n",
    "*Proof of Lemma:*\n",
    "\n",
    "- Let $RB_h$ be the smallest RB tree of height $h$\n",
    "- Without loss of generality, $RB_h$ has it's left path to be the longest, i.e giving ht = h\n",
    "- This path must have the maximum possible number of R-Nodes</br> Else the number of black nodes increases and we have to maintain that black height in all the paths. </br> Hence, this path has $(h-1)/2$ Black Nodes and $(h+1)/2$ Red- Nodes\n",
    "- The right sub trees of this path should have only black nodes as : <br>\n",
    "    * We want to minimise the number of nodes\n",
    "    * all paths to leaves have $b_h = (h+1)/2$\n",
    "\n",
    "- from this whole argument what becomes clear is the following equation :\n",
    "$$m_h = (Left Size) + (root) + (Right Size)\n",
    "          = m_{h-1} + 1 + 2^{(h+1)/2} - 1$$\n",
    "\n",
    "Hence, we can see that\n",
    "$$m_h \\ge 2^{(h+1)/2} + 2^{(h)/2} - 2$$\n",
    "\n",
    "Hence, \n",
    "$$ h = O(\\log{m_h})$$"
   ]
  }
 ],
 "metadata": {
  "language_info": {
   "name": "python"
  }
 },
 "nbformat": 4,
 "nbformat_minor": 2
}
