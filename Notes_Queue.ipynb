{
 "cells": [
  {
   "cell_type": "markdown",
   "metadata": {},
   "source": [
    "# Queues\n",
    "\n",
    "\"Whatever comes in first goes out first.\" - Someone super awesome\n",
    "\n",
    "To be able to accomodate frist in first out, queues have two pointers, <code>front</code> and <code>rear</code>.\n",
    "\n",
    "The functions that it should support are:\n",
    "* <code>isEmpty(Q)</code>\n",
    "* <code>front(Q)</code> // peek at the first element \n",
    "* <code>createEmpty()</code>\n",
    "* <code>enque(x,Q)</code> // insert $x$ at the <code>rear</code> pointer\n",
    "* <code>dequeue(Q)</code> // remove an element from the <code>front</code> pointer"
   ]
  }
 ],
 "metadata": {
  "language_info": {
   "name": "python"
  }
 },
 "nbformat": 4,
 "nbformat_minor": 2
}
