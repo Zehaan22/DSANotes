{
 "cells": [
  {
   "cell_type": "markdown",
   "metadata": {},
   "source": [
    "# Graphs\n",
    "\n",
    "Data Structures comprised of <code>Nodes</code> and <code>edges</code>. Each node represents a \"Stopping point\" in the graph and the edges represent a path connecting two <code>Nodes</code>.\n",
    "\n",
    "### Implementation\n",
    "- Link Based : Adjacency list of G,<br>\n",
    "    * Essentially, each element in the list of size $n$ points to a list of <code>Nodes</code> adjacent to it. Here, $$n = Sizeof(G)$$\n",
    "    * Given G, size of $L_g$ is $\\le O(m+n)$ where n is number of nodes and m is number of edges.\n",
    "    * $\\Sigma_{1 \\le i \\le n} |List (i)| \\le O(m)$\n",
    "    * Pros: It optimises space and finds all the nieghbours in the fastest time.\n",
    "    * Cons: Accessing any edge (X,Y) $\\in E$ takes an $O(n)$ amount of time.\n",
    "\n",
    "- 2-D Array based implementation: Adjacency matrix of $G$ is $A_G$ with the $(i,j)$ - entry is either 0 or 1 based on if $(i,j) \\in E$<br>\n",
    "    * Size of $A_G is O(n^2)$\n",
    "    * Pro: We can find $(i,j) \\in E$ in $O(1)$ time.\n",
    "    * Con: Because of the size attribute, this data structure is very in-eff for sparse graphs.\n",
    "\n",
    "*Defination:* \n",
    "* y is reachable from x is there is a path $x \\rightarrow y$.\n",
    "* Traversal from x: Move along the graph starting from x and store the information for all the vertices y reachable from x.\n",
    "* Distance $d_G(x,y) := $ (least #edges on a path x $\\rightarrow$ y)\n",
    "    - $0 \\le d_G(x,y) \\le n-1$\n",
    "    - $(x,x_1, x_2, x_3, \\dots, y)$ is the shortest path $x\\rightarrow y$,<br>\n",
    "    then $d(x,y) = k$; $d(x,x_{k-1}) = k-1$\n",
    "    \n"
   ]
  },
  {
   "cell_type": "markdown",
   "metadata": {},
   "source": [
    "### BFS - Breadth First Search/Traversal\n",
    "\n",
    "**Idea:** <br>\n",
    "Create a ripple centred at $x$ and expand outwards.<br>\n",
    "This means explore all the neighbours of $x$ first, put them in a set, say $v_1$.<br>\n",
    "Then iteratively look at all the neighbours of all the elemnts of set $v_1$ and store them in $v_2$.<br>\n",
    "Essentially, $v_n$ stores the neighbours of all the elements in $v_{n-1}$\n",
    "* Initialise D(x) <- 0\n",
    "* For all the other y's D(y) <- $\\infty$\n",
    "* You update the values of y's as i+1 if they are a neighbour of $V_i$ and D(y) = $\\infty$\n"
   ]
  }
 ],
 "metadata": {
  "language_info": {
   "name": "python"
  }
 },
 "nbformat": 4,
 "nbformat_minor": 2
}
